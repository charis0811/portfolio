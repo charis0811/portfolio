{
 "cells": [
  {
   "cell_type": "code",
   "execution_count": 1,
   "id": "7e86b990",
   "metadata": {},
   "outputs": [],
   "source": [
    "import sklearn\n",
    "import numpy as np\n",
    "import pandas as pd\n",
    "import re"
   ]
  },
  {
   "cell_type": "code",
   "execution_count": 2,
   "id": "59f45e52",
   "metadata": {},
   "outputs": [],
   "source": [
    "#training data\n",
    "train=pd.read_csv(\"train.csv\")\n",
    "\n",
    "#test data\n",
    "test=pd.read_csv(\"test.csv\")"
   ]
  },
  {
   "cell_type": "code",
   "execution_count": 3,
   "id": "e7c91242",
   "metadata": {},
   "outputs": [
    {
     "name": "stdout",
     "output_type": "stream",
     "text": [
      "   class                                              tweet  text length\n",
      "0      1  [9-1-13] 2:50 pm \"son of a bitch ate my mac n ...           76\n",
      "1      1  RT @BryceSerna: Don't be a pussy grab the boot...           86\n",
      "2      2  RT @ClicquotSuave: bunch of rappers boutta flo...           79\n",
      "3      2  @michigannews13 wow. Thats great language comi...          129\n",
      "4      1  and this is why I'm single, I don't fuck with ...           77\n"
     ]
    }
   ],
   "source": [
    "train['text length'] = train['tweet'].apply(len)\n",
    "print(train.head())"
   ]
  },
  {
   "cell_type": "code",
   "execution_count": 4,
   "id": "3adb97ba",
   "metadata": {},
   "outputs": [
    {
     "data": {
      "text/plain": [
       "<14869x7659 sparse matrix of type '<class 'numpy.float64'>'\n",
       "\twith 222730 stored elements in Compressed Sparse Row format>"
      ]
     },
     "execution_count": 4,
     "metadata": {},
     "output_type": "execute_result"
    }
   ],
   "source": [
    "from sklearn.feature_extraction.text import TfidfVectorizer\n",
    "tfidf_vectorizer = TfidfVectorizer(ngram_range=(1, 2),max_df=0.75, min_df=5, max_features=10000)\n",
    "\n",
    "# TF-IDF feature matrix\n",
    "tfidf = tfidf_vectorizer.fit_transform(train['tweet'] )\n",
    "tfidf"
   ]
  },
  {
   "cell_type": "code",
   "execution_count": 5,
   "id": "bdf50733",
   "metadata": {},
   "outputs": [
    {
     "name": "stdout",
     "output_type": "stream",
     "text": [
      "Requirement already satisfied: tweet.preprocessor in c:\\users\\user\\anaconda3\\lib\\site-packages (0.6.0)\n"
     ]
    }
   ],
   "source": [
    "!pip install tweet.preprocessor"
   ]
  },
  {
   "cell_type": "code",
   "execution_count": 6,
   "id": "a7c13a90",
   "metadata": {},
   "outputs": [],
   "source": [
    "# remove special characters using the regular expression library\n",
    "import re\n",
    "\n",
    "#set up punctuations we want to be replaced\n",
    "REPLACE_NO_SPACE = re.compile(\"(\\.)|(\\;)|(\\:)|(\\!)|(\\')|(\\?)|(\\,)|(\\\")|(\\|)|(\\()|(\\))|(\\[)|(\\])|(\\%)|(\\$)|(\\>)|(\\<)|(\\{)|(\\})\")\n",
    "REPLACE_WITH_SPACE = re.compile(\"(<br\\s/><br\\s/?)|(-)|(/)|(:).\")"
   ]
  },
  {
   "cell_type": "code",
   "execution_count": 7,
   "id": "c66d6baa",
   "metadata": {},
   "outputs": [],
   "source": [
    "import preprocessor as p\n",
    "\n",
    "# custum function to clean the dataset (combining tweet_preprocessor and reguar expression)\n",
    "def clean_tweets(df):\n",
    "  tempArr = []\n",
    "  for line in df:\n",
    "    # send to tweet_processor\n",
    "    tmpL = p.clean(line)\n",
    "    # remove puctuation\n",
    "    tmpL = REPLACE_NO_SPACE.sub(\"\", tmpL.lower()) # convert all tweets to lower cases\n",
    "    tmpL = REPLACE_WITH_SPACE.sub(\" \", tmpL)\n",
    "    tempArr.append(tmpL)\n",
    "  return tempArr"
   ]
  },
  {
   "cell_type": "code",
   "execution_count": 8,
   "id": "645db53f",
   "metadata": {},
   "outputs": [
    {
     "name": "stderr",
     "output_type": "stream",
     "text": [
      "C:\\Users\\User\\anaconda3\\lib\\site-packages\\sklearn\\linear_model\\_logistic.py:763: ConvergenceWarning: lbfgs failed to converge (status=1):\n",
      "STOP: TOTAL NO. of ITERATIONS REACHED LIMIT.\n",
      "\n",
      "Increase the number of iterations (max_iter) or scale the data as shown in:\n",
      "    https://scikit-learn.org/stable/modules/preprocessing.html\n",
      "Please also refer to the documentation for alternative solver options:\n",
      "    https://scikit-learn.org/stable/modules/linear_model.html#logistic-regression\n",
      "  n_iter_i = _check_optimize_result(\n"
     ]
    }
   ],
   "source": [
    "from sklearn.linear_model import LogisticRegression\n",
    "from sklearn.model_selection import train_test_split\n",
    "from sklearn.metrics import classification_report\n",
    "from sklearn.metrics import accuracy_score\n",
    "X = tfidf\n",
    "y = train['class'].astype(int)\n",
    "X_train_tfidf, X_test_tfidf, y_train, y_test = train_test_split(X, y, random_state=42, test_size=0.25)\n",
    "model = LogisticRegression().fit(X_train_tfidf,y_train)\n"
   ]
  },
  {
   "cell_type": "code",
   "execution_count": 9,
   "id": "9a15b005",
   "metadata": {},
   "outputs": [
    {
     "name": "stdout",
     "output_type": "stream",
     "text": [
      "                                  processed_test_tweets\n",
      "0      rt dawg rt  you ever fuck a bitch and she sta...\n",
      "1                            rt  she look like a tranny\n",
      "2      i can not just sit up and hate on another bit...\n",
      "3     & cause im tired of you big bitches coming for...\n",
      "4                  hobbies include fighting mariambitch\n",
      "...                                                 ...\n",
      "9909                                  youre all niggers\n",
      "9910  yous a muthaf***in lie & right his tl is trash...\n",
      "9911  young buck wanna eat dat nigguh like i aint fu...\n",
      "9912              youu got wild bitches tellin you lies\n",
      "9913  ~~ruffled  ntac eileen dahlia   beautiful colo...\n",
      "\n",
      "[9914 rows x 1 columns]\n"
     ]
    }
   ],
   "source": [
    "import re\n",
    "import nltk\n",
    "from nltk.corpus import stopwords\n",
    "#nltk.download('stopwords')\n",
    "df_test=pd.read_csv('test.csv')\n",
    "# df_test=preprocess(df_test)\n",
    "#test_tweet=df_test.tweet\n",
    "processed_test_tweets = clean_tweets(df_test.tweet)   \n",
    "df_test['processed_test_tweets'] = processed_test_tweets\n",
    "print(df_test[[\"processed_test_tweets\"]])"
   ]
  },
  {
   "cell_type": "code",
   "execution_count": 10,
   "id": "e58f540e",
   "metadata": {},
   "outputs": [
    {
     "data": {
      "text/plain": [
       "RandomForestClassifier()"
      ]
     },
     "execution_count": 10,
     "metadata": {},
     "output_type": "execute_result"
    }
   ],
   "source": [
    "from sklearn.ensemble import RandomForestClassifier\n",
    "X_train_tfidf, X_test_tfidf, y_train, y_test = train_test_split(X, y, random_state=42, test_size=0.2)\n",
    "rf=RandomForestClassifier()\n",
    "rf.fit(X_train_tfidf,y_train)"
   ]
  },
  {
   "cell_type": "code",
   "execution_count": 11,
   "id": "6699281a",
   "metadata": {},
   "outputs": [
    {
     "name": "stdout",
     "output_type": "stream",
     "text": [
      "                                  processed_test_tweets\n",
      "0      rt dawg rt  you ever fuck a bitch and she sta...\n",
      "1                            rt  she look like a tranny\n",
      "2      i can not just sit up and hate on another bit...\n",
      "3     & cause im tired of you big bitches coming for...\n",
      "4                  hobbies include fighting mariambitch\n",
      "...                                                 ...\n",
      "9909                                  youre all niggers\n",
      "9910  yous a muthaf***in lie & right his tl is trash...\n",
      "9911  young buck wanna eat dat nigguh like i aint fu...\n",
      "9912              youu got wild bitches tellin you lies\n",
      "9913  ~~ruffled  ntac eileen dahlia   beautiful colo...\n",
      "\n",
      "[9914 rows x 1 columns]\n"
     ]
    }
   ],
   "source": [
    "df_test=pd.read_csv('test.csv')\n",
    "# df_test=preprocess(df_test)\n",
    "#test_tweet=df_test.tweet\n",
    "processed_test_tweets = clean_tweets(df_test.tweet)   \n",
    "df_test['processed_test_tweets'] = processed_test_tweets\n",
    "print(df_test[[\"processed_test_tweets\"]])"
   ]
  },
  {
   "cell_type": "code",
   "execution_count": 12,
   "id": "e2c17d7c",
   "metadata": {},
   "outputs": [
    {
     "data": {
      "text/html": [
       "<div>\n",
       "<style scoped>\n",
       "    .dataframe tbody tr th:only-of-type {\n",
       "        vertical-align: middle;\n",
       "    }\n",
       "\n",
       "    .dataframe tbody tr th {\n",
       "        vertical-align: top;\n",
       "    }\n",
       "\n",
       "    .dataframe thead th {\n",
       "        text-align: right;\n",
       "    }\n",
       "</style>\n",
       "<table border=\"1\" class=\"dataframe\">\n",
       "  <thead>\n",
       "    <tr style=\"text-align: right;\">\n",
       "      <th></th>\n",
       "      <th>id</th>\n",
       "      <th>tweet</th>\n",
       "      <th>clean_tweet</th>\n",
       "    </tr>\n",
       "  </thead>\n",
       "  <tbody>\n",
       "    <tr>\n",
       "      <th>9909</th>\n",
       "      <td>9909</td>\n",
       "      <td>you're all niggers</td>\n",
       "      <td>youre all niggers</td>\n",
       "    </tr>\n",
       "    <tr>\n",
       "      <th>9910</th>\n",
       "      <td>9910</td>\n",
       "      <td>you's a muthaf***in lie &amp;#8220;@LifeAsKing: @2...</td>\n",
       "      <td>yous a muthaf***in lie &amp; right his tl is trash...</td>\n",
       "    </tr>\n",
       "    <tr>\n",
       "      <th>9911</th>\n",
       "      <td>9911</td>\n",
       "      <td>young buck wanna eat!!.. dat nigguh like I ain...</td>\n",
       "      <td>young buck wanna eat dat nigguh like i aint fu...</td>\n",
       "    </tr>\n",
       "    <tr>\n",
       "      <th>9912</th>\n",
       "      <td>9912</td>\n",
       "      <td>youu got wild bitches tellin you lies</td>\n",
       "      <td>youu got wild bitches tellin you lies</td>\n",
       "    </tr>\n",
       "    <tr>\n",
       "      <th>9913</th>\n",
       "      <td>9913</td>\n",
       "      <td>~~Ruffled | Ntac Eileen Dahlia - Beautiful col...</td>\n",
       "      <td>~~ruffled  ntac eileen dahlia   beautiful colo...</td>\n",
       "    </tr>\n",
       "  </tbody>\n",
       "</table>\n",
       "</div>"
      ],
      "text/plain": [
       "        id                                              tweet  \\\n",
       "9909  9909                                 you're all niggers   \n",
       "9910  9910  you's a muthaf***in lie &#8220;@LifeAsKing: @2...   \n",
       "9911  9911  young buck wanna eat!!.. dat nigguh like I ain...   \n",
       "9912  9912              youu got wild bitches tellin you lies   \n",
       "9913  9913  ~~Ruffled | Ntac Eileen Dahlia - Beautiful col...   \n",
       "\n",
       "                                            clean_tweet  \n",
       "9909                                  youre all niggers  \n",
       "9910  yous a muthaf***in lie & right his tl is trash...  \n",
       "9911  young buck wanna eat dat nigguh like i aint fu...  \n",
       "9912              youu got wild bitches tellin you lies  \n",
       "9913  ~~ruffled  ntac eileen dahlia   beautiful colo...  "
      ]
     },
     "execution_count": 12,
     "metadata": {},
     "output_type": "execute_result"
    }
   ],
   "source": [
    "# clean the test data and append the cleaned tweets to the test data\n",
    "test_tweet = clean_tweets(test[\"tweet\"])\n",
    "test_tweet = pd.DataFrame(test_tweet)\n",
    "# append cleaned tweets to the training data\n",
    "test[\"clean_tweet\"] = test_tweet\n",
    "\n",
    "# compare the cleaned and uncleaned tweets\n",
    "test.tail()"
   ]
  },
  {
   "cell_type": "code",
   "execution_count": 13,
   "id": "a30e3380",
   "metadata": {
    "scrolled": false
   },
   "outputs": [
    {
     "data": {
      "text/plain": [
       "RandomForestClassifier()"
      ]
     },
     "execution_count": 13,
     "metadata": {},
     "output_type": "execute_result"
    }
   ],
   "source": [
    "from sklearn.ensemble import RandomForestClassifier\n",
    "X_train_tfidf, X_test_tfidf, y_train, y_test = train_test_split(X, y, random_state=42, test_size=0.2)\n",
    "rf=RandomForestClassifier()\n",
    "rf.fit(X_train_tfidf,y_train)"
   ]
  },
  {
   "cell_type": "code",
   "execution_count": 14,
   "id": "5d40688d",
   "metadata": {},
   "outputs": [
    {
     "name": "stdout",
     "output_type": "stream",
     "text": [
      "              precision    recall  f1-score   support\n",
      "\n",
      "           0       0.71      0.09      0.16       167\n",
      "           1       0.88      0.98      0.93      2287\n",
      "           2       0.85      0.70      0.77       520\n",
      "\n",
      "    accuracy                           0.88      2974\n",
      "   macro avg       0.82      0.59      0.62      2974\n",
      "weighted avg       0.87      0.88      0.86      2974\n",
      "\n",
      "Logistic Regression, Accuracy Score: 0.8772696704774714\n"
     ]
    }
   ],
   "source": [
    "y_preds = model.predict(X_test_tfidf)\n",
    "report = classification_report( y_test, y_preds )\n",
    "print(report)\n",
    "acc=accuracy_score(y_test,y_preds)\n",
    "print(\"Logistic Regression, Accuracy Score:\" , acc)"
   ]
  },
  {
   "cell_type": "code",
   "execution_count": 15,
   "id": "37861d54",
   "metadata": {},
   "outputs": [
    {
     "name": "stdout",
     "output_type": "stream",
     "text": [
      "              precision    recall  f1-score   support\n",
      "\n",
      "           0       0.50      0.05      0.09       167\n",
      "           1       0.88      0.98      0.93      2287\n",
      "           2       0.86      0.70      0.77       520\n",
      "\n",
      "    accuracy                           0.88      2974\n",
      "   macro avg       0.75      0.57      0.59      2974\n",
      "weighted avg       0.86      0.88      0.85      2974\n",
      "\n",
      "Random Forest, Accuracy Score: 0.8755884330867518\n"
     ]
    }
   ],
   "source": [
    "y_preds = rf.predict(X_test_tfidf)\n",
    "acc1=accuracy_score(y_test,y_preds)\n",
    "report = classification_report( y_test, y_preds )\n",
    "print(report)\n",
    "print(\"Random Forest, Accuracy Score:\",acc1)"
   ]
  },
  {
   "cell_type": "code",
   "execution_count": 16,
   "id": "47f95a77",
   "metadata": {},
   "outputs": [
    {
     "name": "stdout",
     "output_type": "stream",
     "text": [
      "              precision    recall  f1-score   support\n",
      "\n",
      "           0       0.14      0.25      0.18       167\n",
      "           1       0.86      0.85      0.85      2287\n",
      "           2       0.65      0.50      0.56       520\n",
      "\n",
      "    accuracy                           0.76      2974\n",
      "   macro avg       0.55      0.53      0.53      2974\n",
      "weighted avg       0.78      0.76      0.77      2974\n",
      "\n",
      "Naive Bayes, Accuracy Score: 0.7568930733019502\n"
     ]
    }
   ],
   "source": [
    "from sklearn.naive_bayes import GaussianNB\n",
    "X_train_tfidf, X_test_tfidf, y_train, y_test = train_test_split(X.toarray(), y, random_state=42, test_size=0.2)\n",
    "nb=GaussianNB()\n",
    "nb.fit(X_train_tfidf,y_train)\n",
    "y_preds = nb.predict(X_test_tfidf)\n",
    "acc2=accuracy_score(y_test,y_preds)\n",
    "report = classification_report( y_test, y_preds )\n",
    "print(report)\n",
    "print(\"Naive Bayes, Accuracy Score:\",acc2)"
   ]
  },
  {
   "cell_type": "code",
   "execution_count": 17,
   "id": "80667a9f",
   "metadata": {},
   "outputs": [
    {
     "name": "stdout",
     "output_type": "stream",
     "text": [
      "              precision    recall  f1-score   support\n",
      "\n",
      "           0       0.44      0.19      0.26       167\n",
      "           1       0.91      0.96      0.93      2287\n",
      "           2       0.85      0.81      0.83       520\n",
      "\n",
      "    accuracy                           0.89      2974\n",
      "   macro avg       0.73      0.65      0.67      2974\n",
      "weighted avg       0.87      0.89      0.88      2974\n",
      "\n",
      "SVM, Accuracy Score: 0.8880295897780767\n"
     ]
    }
   ],
   "source": [
    "from sklearn.svm import LinearSVC\n",
    "support =LinearSVC(random_state=20)\n",
    "support.fit(X_train_tfidf,y_train)\n",
    "y_preds = support.predict(X_test_tfidf)\n",
    "acc3=accuracy_score(y_test,y_preds)\n",
    "report = classification_report( y_test, y_preds )\n",
    "print(report)\n",
    "print(\"SVM, Accuracy Score:\" , acc3)"
   ]
  }
 ],
 "metadata": {
  "kernelspec": {
   "display_name": "Python 3",
   "language": "python",
   "name": "python3"
  },
  "language_info": {
   "codemirror_mode": {
    "name": "ipython",
    "version": 3
   },
   "file_extension": ".py",
   "mimetype": "text/x-python",
   "name": "python",
   "nbconvert_exporter": "python",
   "pygments_lexer": "ipython3",
   "version": "3.8.8"
  }
 },
 "nbformat": 4,
 "nbformat_minor": 5
}
